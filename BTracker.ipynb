{
 "cells": [
  {
   "cell_type": "code",
   "execution_count": 60,
   "id": "b0172561",
   "metadata": {},
   "outputs": [],
   "source": [
    "import pandas as pd\n",
    "import numpy as np\n",
    "\n",
    "df = pd.read_csv('df.csv')\n",
    "cols = ['Amount','Odds']\n",
    "df[cols] = df[cols].apply(pd.to_numeric, errors='coerce', axis=1)"
   ]
  },
  {
   "cell_type": "code",
   "execution_count": 61,
   "id": "ab0b3ba0",
   "metadata": {},
   "outputs": [
    {
     "name": "stdout",
     "output_type": "stream",
     "text": [
      "        Date  Sportsbook               Sport          System  \\\n",
      "0   1/1/2023     Fanduel            Football         Sheehan   \n",
      "1  1/22/2023     Fanduel            Football  CBS Sportsline   \n",
      "2   2/1/2023      BetMGM  College Basketball  CBS Sportsline   \n",
      "3   1/1/2023  Draftkings            Baseball        ParlayIQ   \n",
      "4  1/22/2023     Fanduel              Hockey  CBS Sportsline   \n",
      "5   2/1/2023      BetMGM    College Football             538   \n",
      "\n",
      "                  Picks    BetType OverUnder  Spread FreeBet  Amount  Odds  \\\n",
      "0     Jaguars Wins 2023       Prop       NaN     NaN     Yes      10   115   \n",
      "1               Jaguars  OverUnder     Under     NaN     NaN      15  -125   \n",
      "2         James Madison  Moneyline       NaN     NaN     NaN      10   155   \n",
      "3  Justin Verlander K's       Prop       NaN     NaN     NaN       2  -215   \n",
      "4         Winnipeg Jets  Moneyline       NaN     NaN     Yes       5   105   \n",
      "5                    KU  Moneyline       NaN     NaN     Yes       5   125   \n",
      "\n",
      "  Win/Loss  PushAmount  \n",
      "0        L         NaN  \n",
      "1        W         NaN  \n",
      "2        W         NaN  \n",
      "3        L         NaN  \n",
      "4        W         NaN  \n",
      "5        L         NaN  \n"
     ]
    }
   ],
   "source": [
    "print(df)"
   ]
  },
  {
   "cell_type": "code",
   "execution_count": 59,
   "id": "1a6cdb9d",
   "metadata": {},
   "outputs": [],
   "source": [
    "df['CleanedOdds'] = df['Odds'].abs()\n",
    "\n",
    "df['Winnings'] = np.where(df['Odds'] > 0, ((df['CleanedOdds']/100)*df['Amount']), (100/(df['CleanedOdds'])*df['Amount'])).round(2)\n",
    "\n",
    "cols2 = ['Winnings','CleanedOdds']\n",
    "df[cols2] = df[cols2].apply(pd.to_numeric, errors='coerce', axis=1)"
   ]
  },
  {
   "cell_type": "code",
   "execution_count": 55,
   "id": "5e414cfc",
   "metadata": {},
   "outputs": [],
   "source": [
    "df['Payout'] = df['Winnings'] + df['Amount']\n",
    "df['Payout'] = np.where(df['FreeBet'] =='Yes', (df['Winnings'] - df['Amount']), (df['Winnings'] + df['Amount']))"
   ]
  },
  {
   "cell_type": "code",
   "execution_count": 56,
   "id": "9313128d",
   "metadata": {},
   "outputs": [
    {
     "name": "stdout",
     "output_type": "stream",
     "text": [
      "        Date  Sportsbook               Sport          System  \\\n",
      "0   1/1/2023     Fanduel            Football         Sheehan   \n",
      "1  1/22/2023     Fanduel            Football  CBS Sportsline   \n",
      "2   2/1/2023      BetMGM  College Basketball  CBS Sportsline   \n",
      "3   1/1/2023  Draftkings            Baseball        ParlayIQ   \n",
      "4  1/22/2023     Fanduel              Hockey  CBS Sportsline   \n",
      "5   2/1/2023      BetMGM    College Football             538   \n",
      "\n",
      "                  Picks    BetType OverUnder  Spread FreeBet  Amount  Odds  \\\n",
      "0     Jaguars Wins 2023       Prop       NaN     NaN     Yes      10   115   \n",
      "1               Jaguars  OverUnder     Under     NaN     NaN      15  -125   \n",
      "2         James Madison  Moneyline       NaN     NaN     NaN      10   155   \n",
      "3  Justin Verlander K's       Prop       NaN     NaN     NaN       2  -215   \n",
      "4         Winnipeg Jets  Moneyline       NaN     NaN     Yes       5   105   \n",
      "5                    KU  Moneyline       NaN     NaN     Yes       5   125   \n",
      "\n",
      "   CleanedOdds  Winnings  Payout  \n",
      "0        115.0     11.50    1.50  \n",
      "1        125.0     12.00   27.00  \n",
      "2        155.0     15.50   25.50  \n",
      "3        215.0      0.93    2.93  \n",
      "4        105.0      5.25    0.25  \n",
      "5        125.0      6.25    1.25  \n"
     ]
    }
   ],
   "source": [
    "print(df)"
   ]
  },
  {
   "cell_type": "code",
   "execution_count": 57,
   "id": "e3d8664d",
   "metadata": {
    "scrolled": true
   },
   "outputs": [],
   "source": [
    "df['Break Even Percentage'] = np.where(df['Odds'] > 0, ((100 / (100 + df['CleanedOdds'])*100)), ((df['CleanedOdds'])/(100+(df['CleanedOdds'])))*100).round(2)"
   ]
  },
  {
   "cell_type": "code",
   "execution_count": 27,
   "id": "ea9cf8d2",
   "metadata": {},
   "outputs": [
    {
     "name": "stdout",
     "output_type": "stream",
     "text": [
      "        Date  Sportsbook               Sport          System  \\\n",
      "0   1/1/2023     Fanduel            Football         Sheehan   \n",
      "1  1/22/2023     Fanduel            Football  CBS Sportsline   \n",
      "2   2/1/2023      BetMGM  College Basketball  CBS Sportsline   \n",
      "3   1/1/2023  Draftkings            Baseball        ParlayIQ   \n",
      "4  1/22/2023     Fanduel              Hockey  CBS Sportsline   \n",
      "5   2/1/2023      BetMGM    College Football             538   \n",
      "\n",
      "                  Picks    BetType OverUnder  Spread FreeBet  Amount  Odds  \\\n",
      "0     Jaguars Wins 2023       Prop       NaN     NaN     Yes      10   115   \n",
      "1               Jaguars  OverUnder     Under     NaN     NaN      15  -125   \n",
      "2         James Madison  Moneyline       NaN     NaN     NaN      10   155   \n",
      "3  Justin Verlander K's       Prop       NaN     NaN     NaN       2  -215   \n",
      "4         Winnipeg Jets  Moneyline       NaN     NaN     Yes       5   105   \n",
      "5                    KU  Moneyline       NaN     NaN     Yes       5   125   \n",
      "\n",
      "   CleanedOdds  Winnings  Payout  Break Even Percentage  \n",
      "0          115     11.50    0.00                  46.51  \n",
      "1          125     12.00   27.00                  55.56  \n",
      "2          155     15.50   25.50                  39.22  \n",
      "3          215      0.93    2.93                  68.25  \n",
      "4          105      5.25    0.00                  48.78  \n",
      "5          125      6.25    0.00                  44.44  \n"
     ]
    }
   ],
   "source": [
    "print(df)"
   ]
  },
  {
   "cell_type": "code",
   "execution_count": null,
   "id": "ceda9ab4",
   "metadata": {},
   "outputs": [],
   "source": []
  }
 ],
 "metadata": {
  "kernelspec": {
   "display_name": "Python 3 (ipykernel)",
   "language": "python",
   "name": "python3"
  },
  "language_info": {
   "codemirror_mode": {
    "name": "ipython",
    "version": 3
   },
   "file_extension": ".py",
   "mimetype": "text/x-python",
   "name": "python",
   "nbconvert_exporter": "python",
   "pygments_lexer": "ipython3",
   "version": "3.9.7"
  }
 },
 "nbformat": 4,
 "nbformat_minor": 5
}
